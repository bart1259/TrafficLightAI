{
 "cells": [
  {
   "cell_type": "code",
   "execution_count": 9,
   "id": "45cd8c23",
   "metadata": {},
   "outputs": [
    {
     "name": "stdout",
     "output_type": "stream",
     "text": [
      "Total Waiting Cars 18639\n"
     ]
    }
   ],
   "source": [
    "from simulation import TrafficSimulation\n",
    "\n",
    "NORTH_SOUTH_GREEN = 0\n",
    "EAST_WEST_GREEN = 1\n",
    "\n",
    "def my_ai(inputs):\n",
    "    if inputs[-1] == NORTH_SOUTH_GREEN:\n",
    "        return EAST_WEST_GREEN, 30\n",
    "    if inputs[-1] == EAST_WEST_GREEN:\n",
    "        return NORTH_SOUTH_GREEN, 30\n",
    "\n",
    "sim = TrafficSimulation(my_ai, grid_size=9, lane_length=10, max_speed=5, in_rate=0.2, initial_density=0.1)\n",
    "car_waiting_ticks = sim.run_simulation(100)\n",
    "print(f\"Total Waiting Cars {car_waiting_ticks}\")"
   ]
  },
  {
   "cell_type": "code",
   "execution_count": null,
   "id": "79f6f8ae",
   "metadata": {},
   "outputs": [],
   "source": []
  }
 ],
 "metadata": {
  "kernelspec": {
   "display_name": "Python 3 (ipykernel)",
   "language": "python",
   "name": "python3"
  },
  "language_info": {
   "codemirror_mode": {
    "name": "ipython",
    "version": 3
   },
   "file_extension": ".py",
   "mimetype": "text/x-python",
   "name": "python",
   "nbconvert_exporter": "python",
   "pygments_lexer": "ipython3",
   "version": "3.8.10"
  }
 },
 "nbformat": 4,
 "nbformat_minor": 5
}
