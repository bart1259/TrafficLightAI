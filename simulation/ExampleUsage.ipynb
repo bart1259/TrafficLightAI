{
 "cells": [
  {
   "cell_type": "code",
   "execution_count": 1,
   "id": "1f9b9f88",
   "metadata": {},
   "outputs": [],
   "source": [
    "from simulation import TrafficSimulation\n",
    "\n",
    "NORTH_SOUTH_GREEN = 0\n",
    "EAST_WEST_GREEN = 1\n",
    "\n",
    "# Inputs: [North waiting, East waiting, South waiting, West Waiting, Previous Light]\n",
    "def my_ai(inputs):\n",
    "    if inputs[-1] == NORTH_SOUTH_GREEN:\n",
    "        return EAST_WEST_GREEN, 30\n",
    "    if inputs[-1] == EAST_WEST_GREEN:\n",
    "        return NORTH_SOUTH_GREEN, 30\n",
    "\n",
    "sim = TrafficSimulation(my_ai, grid_size=9, lane_length=10, max_speed=5, in_rate=0.2, initial_density=0.1)\n",
    "car_waiting_ticks = sim.run_simulation(100)\n",
    "# print(f\"Total Waiting Cars {car_waiting_ticks}\")"
   ]
  },
  {
   "cell_type": "code",
   "execution_count": 3,
   "id": "8b1761f5",
   "metadata": {},
   "outputs": [
    {
     "name": "stdout",
     "output_type": "stream",
     "text": [
      "14321\n",
      "14321\n"
     ]
    }
   ],
   "source": [
    "from simulation import TrafficSimulation\n",
    "\n",
    "class Organism:\n",
    "    def __init__(self):\n",
    "        self.value = 7\n",
    "    \n",
    "    def do_ai(self, inputs):\n",
    "        if inputs[-1] == NORTH_SOUTH_GREEN:\n",
    "            return EAST_WEST_GREEN, self.value\n",
    "        if inputs[-1] == EAST_WEST_GREEN:\n",
    "            return NORTH_SOUTH_GREEN, self.value\n",
    "    \n",
    "    def evaluate(self):\n",
    "        sim = TrafficSimulation(self.do_ai, grid_size=9, lane_length=10, max_speed=5, in_rate=0.2, initial_density=0.1, seed=39)\n",
    "        car_waiting_ticks = sim.run_simulation(100)\n",
    "        fitness = car_waiting_ticks\n",
    "        return fitness\n",
    "    \n",
    "o = Organism()\n",
    "print(o.evaluate())\n",
    "print(o.evaluate())"
   ]
  },
  {
   "cell_type": "code",
   "execution_count": 5,
   "id": "b8f22149",
   "metadata": {},
   "outputs": [
    {
     "data": {
      "text/plain": [
       "[14321,\n",
       " 14321,\n",
       " 14321,\n",
       " 14321,\n",
       " 14321,\n",
       " 14321,\n",
       " 14321,\n",
       " 14321,\n",
       " 14321,\n",
       " 14321,\n",
       " 14321,\n",
       " 14321,\n",
       " 14321,\n",
       " 14321,\n",
       " 14321,\n",
       " 14321,\n",
       " 14321,\n",
       " 14321,\n",
       " 14321,\n",
       " 14321,\n",
       " 14321,\n",
       " 14321,\n",
       " 14321,\n",
       " 14321,\n",
       " 14321,\n",
       " 14321,\n",
       " 14321,\n",
       " 14321,\n",
       " 14321,\n",
       " 14321,\n",
       " 14321,\n",
       " 14321,\n",
       " 14321,\n",
       " 14321,\n",
       " 14321,\n",
       " 14321]"
      ]
     },
     "execution_count": 5,
     "metadata": {},
     "output_type": "execute_result"
    }
   ],
   "source": [
    "from multiprocessing import Pool\n",
    "\n",
    "ORGANISM_COUNT = 36\n",
    "organisms = []\n",
    "for i in range(ORGANISM_COUNT):\n",
    "    organisms.append(Organism())\n",
    "\n",
    "THREAD_COUNT = 36\n",
    "p = Pool(THREAD_COUNT)\n",
    "ftinesses = p.map(Organism.evaluate, organisms)\n",
    "ftinesses"
   ]
  },
  {
   "cell_type": "code",
   "execution_count": null,
   "id": "63431e6f",
   "metadata": {},
   "outputs": [],
   "source": []
  }
 ],
 "metadata": {
  "kernelspec": {
   "display_name": "Python 3 (ipykernel)",
   "language": "python",
   "name": "python3"
  },
  "language_info": {
   "codemirror_mode": {
    "name": "ipython",
    "version": 3
   },
   "file_extension": ".py",
   "mimetype": "text/x-python",
   "name": "python",
   "nbconvert_exporter": "python",
   "pygments_lexer": "ipython3",
   "version": "3.8.10"
  }
 },
 "nbformat": 4,
 "nbformat_minor": 5
}
