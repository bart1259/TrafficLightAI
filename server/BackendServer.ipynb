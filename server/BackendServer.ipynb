{
 "cells": [
  {
   "cell_type": "code",
   "execution_count": 2,
   "id": "1e0eb6ad",
   "metadata": {},
   "outputs": [
    {
     "name": "stdout",
     "output_type": "stream",
     "text": [
      "Defaulting to user installation because normal site-packages is not writeable\n",
      "Requirement already satisfied: Flask in /home/gebkab/.local/lib/python3.8/site-packages (2.2.2)\n",
      "Requirement already satisfied: Werkzeug>=2.2.2 in /home/gebkab/.local/lib/python3.8/site-packages (from Flask) (2.2.2)\n",
      "Requirement already satisfied: Jinja2>=3.0 in /usr/local/lib/python3.8/dist-packages (from Flask) (3.1.2)\n",
      "Requirement already satisfied: click>=8.0 in /usr/local/lib/python3.8/dist-packages (from Flask) (8.0.4)\n",
      "Requirement already satisfied: importlib-metadata>=3.6.0 in /usr/local/lib/python3.8/dist-packages (from Flask) (4.11.4)\n",
      "Requirement already satisfied: itsdangerous>=2.0 in /home/gebkab/.local/lib/python3.8/site-packages (from Flask) (2.1.2)\n",
      "Requirement already satisfied: zipp>=0.5 in /usr/local/lib/python3.8/dist-packages (from importlib-metadata>=3.6.0->Flask) (3.8.0)\n",
      "Requirement already satisfied: MarkupSafe>=2.0 in /usr/local/lib/python3.8/dist-packages (from Jinja2>=3.0->Flask) (2.1.1)\n",
      "Note: you may need to restart the kernel to use updated packages.\n"
     ]
    }
   ],
   "source": [
    "# Flask needs to be installed to run the backend server\n",
    "%pip install Flask"
   ]
  },
  {
   "cell_type": "code",
   "execution_count": 1,
   "id": "35d4cdae",
   "metadata": {},
   "outputs": [],
   "source": [
    "from flask import Flask\n",
    "import random\n",
    "\n",
    "# Keep track of every thread we make so we can kill them all\n",
    "server_threads = []\n",
    "\n",
    "# Make the flask application\n",
    "app = Flask(__name__)\n",
    "\n",
    "@app.route('/')\n",
    "def info():\n",
    "    return 'Welcome to the API for our traffic AI'\n",
    "\n",
    "@app.route('/get_light_times')\n",
    "def get_light_times():\n",
    "    return str(random.randint(5, 90))"
   ]
  },
  {
   "cell_type": "code",
   "execution_count": 7,
   "id": "98b2cca5",
   "metadata": {},
   "outputs": [
    {
     "name": "stdout",
     "output_type": "stream",
     "text": [
      "Server running...\n",
      " * Serving Flask app '__main__'\n",
      " * Debug mode: off\n"
     ]
    },
    {
     "name": "stderr",
     "output_type": "stream",
     "text": [
      "\u001b[31m\u001b[1mWARNING: This is a development server. Do not use it in a production deployment. Use a production WSGI server instead.\u001b[0m\n",
      " * Running on http://127.0.0.1:3000\n",
      "\u001b[33mPress CTRL+C to quit\u001b[0m\n",
      "127.0.0.1 - - [12/Jan/2023 17:46:39] \"GET /get_light_times HTTP/1.1\" 200 -\n",
      "127.0.0.1 - - [12/Jan/2023 17:46:41] \"GET /get_light_times HTTP/1.1\" 200 -\n",
      "127.0.0.1 - - [12/Jan/2023 17:46:41] \"GET /get_light_times HTTP/1.1\" 200 -\n",
      "127.0.0.1 - - [12/Jan/2023 17:46:41] \"GET /get_light_times HTTP/1.1\" 200 -\n",
      "127.0.0.1 - - [12/Jan/2023 17:46:42] \"GET /get_light_times HTTP/1.1\" 200 -\n",
      "127.0.0.1 - - [12/Jan/2023 17:46:42] \"GET /get_light_times HTTP/1.1\" 200 -\n",
      "127.0.0.1 - - [12/Jan/2023 17:46:42] \"GET /get_light_times HTTP/1.1\" 200 -\n",
      "127.0.0.1 - - [12/Jan/2023 17:46:42] \"GET /get_light_times HTTP/1.1\" 200 -\n",
      "127.0.0.1 - - [12/Jan/2023 17:46:43] \"GET /get_light_times HTTP/1.1\" 200 -\n",
      "127.0.0.1 - - [12/Jan/2023 17:46:43] \"GET /get_light_times HTTP/1.1\" 200 -\n",
      "127.0.0.1 - - [12/Jan/2023 17:46:43] \"GET /get_light_times HTTP/1.1\" 200 -\n",
      "127.0.0.1 - - [12/Jan/2023 17:46:43] \"GET /get_light_times HTTP/1.1\" 200 -\n",
      "127.0.0.1 - - [12/Jan/2023 17:46:43] \"GET /get_light_times HTTP/1.1\" 200 -\n",
      "127.0.0.1 - - [12/Jan/2023 17:46:43] \"GET /get_light_times HTTP/1.1\" 200 -\n"
     ]
    }
   ],
   "source": [
    "from multiprocessing import Process\n",
    "\n",
    "PORT = 3000\n",
    "\n",
    "def start_server():\n",
    "    app.run(port=PORT)\n",
    "\n",
    "server_thread = Process(target=start_server)\n",
    "server_thread.start()\n",
    "server_threads.append(server_thread)\n",
    "print(\"Server running...\")"
   ]
  },
  {
   "cell_type": "code",
   "execution_count": 6,
   "id": "ff031c1c",
   "metadata": {},
   "outputs": [
    {
     "name": "stdout",
     "output_type": "stream",
     "text": [
      "Stopping server...\n",
      "Server stopped!\n"
     ]
    }
   ],
   "source": [
    "print(\"Stopping server...\")\n",
    "for i in range(len(server_threads)):\n",
    "    server_threads[i].terminate()\n",
    "    server_threads[i].join()\n",
    "server_threads = []\n",
    "print(\"Server stopped!\")"
   ]
  },
  {
   "cell_type": "code",
   "execution_count": null,
   "id": "4a118a2d",
   "metadata": {},
   "outputs": [],
   "source": []
  }
 ],
 "metadata": {
  "kernelspec": {
   "display_name": "Python 3 (ipykernel)",
   "language": "python",
   "name": "python3"
  },
  "language_info": {
   "codemirror_mode": {
    "name": "ipython",
    "version": 3
   },
   "file_extension": ".py",
   "mimetype": "text/x-python",
   "name": "python",
   "nbconvert_exporter": "python",
   "pygments_lexer": "ipython3",
   "version": "3.8.10"
  }
 },
 "nbformat": 4,
 "nbformat_minor": 5
}
