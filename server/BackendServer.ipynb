{
 "cells": [
  {
   "cell_type": "code",
   "execution_count": 2,
   "id": "1e0eb6ad",
   "metadata": {},
   "outputs": [
    {
     "name": "stdout",
     "output_type": "stream",
     "text": [
      "Defaulting to user installation because normal site-packages is not writeable\n",
      "Requirement already satisfied: Flask in /home/gebkab/.local/lib/python3.8/site-packages (2.2.2)\n",
      "Requirement already satisfied: Werkzeug>=2.2.2 in /home/gebkab/.local/lib/python3.8/site-packages (from Flask) (2.2.2)\n",
      "Requirement already satisfied: Jinja2>=3.0 in /usr/local/lib/python3.8/dist-packages (from Flask) (3.1.2)\n",
      "Requirement already satisfied: click>=8.0 in /usr/local/lib/python3.8/dist-packages (from Flask) (8.0.4)\n",
      "Requirement already satisfied: importlib-metadata>=3.6.0 in /usr/local/lib/python3.8/dist-packages (from Flask) (4.11.4)\n",
      "Requirement already satisfied: itsdangerous>=2.0 in /home/gebkab/.local/lib/python3.8/site-packages (from Flask) (2.1.2)\n",
      "Requirement already satisfied: zipp>=0.5 in /usr/local/lib/python3.8/dist-packages (from importlib-metadata>=3.6.0->Flask) (3.8.0)\n",
      "Requirement already satisfied: MarkupSafe>=2.0 in /usr/local/lib/python3.8/dist-packages (from Jinja2>=3.0->Flask) (2.1.1)\n",
      "Note: you may need to restart the kernel to use updated packages.\n"
     ]
    }
   ],
   "source": [
    "# Flask needs to be installed to run the backend server\n",
    "%pip install Flask"
   ]
  },
  {
   "cell_type": "code",
   "execution_count": 1,
   "id": "35d4cdae",
   "metadata": {},
   "outputs": [],
   "source": [
    "from flask import Flask\n",
    "import random\n",
    "\n",
    "# Make the flask application\n",
    "app = Flask(__name__)\n",
    "\n",
    "@app.route('/')\n",
    "def info():\n",
    "    return 'Welcome to the API for our traffic AI'\n",
    "\n",
    "itera = 0\n",
    "@app.route('/get_light_times')\n",
    "def get_light_times():\n",
    "    # This is where the A.I. will go. For now, just return a random number\n",
    "    return str(random.randint(5, 90))"
   ]
  },
  {
   "cell_type": "code",
   "execution_count": 2,
   "id": "98b2cca5",
   "metadata": {},
   "outputs": [
    {
     "ename": "NameError",
     "evalue": "name 'server_threads' is not defined",
     "output_type": "error",
     "traceback": [
      "\u001b[0;31m---------------------------------------------------------------------------\u001b[0m",
      "\u001b[0;31mNameError\u001b[0m                                 Traceback (most recent call last)",
      "Input \u001b[0;32mIn [2]\u001b[0m, in \u001b[0;36m<cell line: 9>\u001b[0;34m()\u001b[0m\n\u001b[1;32m      6\u001b[0m     app\u001b[38;5;241m.\u001b[39mrun(port\u001b[38;5;241m=\u001b[39mPORT)\n\u001b[1;32m      8\u001b[0m \u001b[38;5;66;03m# Kill any old servers\u001b[39;00m\n\u001b[0;32m----> 9\u001b[0m \u001b[38;5;28;01mif\u001b[39;00m \u001b[38;5;129;01mnot\u001b[39;00m \u001b[43mserver_threads\u001b[49m \u001b[38;5;129;01mis\u001b[39;00m \u001b[38;5;28;01mNone\u001b[39;00m:\n\u001b[1;32m     10\u001b[0m     \u001b[38;5;28;01mfor\u001b[39;00m i \u001b[38;5;129;01min\u001b[39;00m \u001b[38;5;28mrange\u001b[39m(\u001b[38;5;28mlen\u001b[39m(server_threads)):\n\u001b[1;32m     11\u001b[0m         server_threads[i]\u001b[38;5;241m.\u001b[39mterminate()\n",
      "\u001b[0;31mNameError\u001b[0m: name 'server_threads' is not defined"
     ]
    }
   ],
   "source": [
    "from multiprocessing import Process\n",
    "\n",
    "PORT = 3000\n",
    "\n",
    "def start_server():\n",
    "    app.run(port=PORT)\n",
    "\n",
    "# Kill any old servers\n",
    "if not server_threads is None:\n",
    "    for i in range(len(server_threads)):\n",
    "        server_threads[i].terminate()\n",
    "        server_threads[i].join()\n",
    "    \n",
    "# Start a new server\n",
    "server_thread = Process(target=start_server)\n",
    "server_thread.start()\n",
    "server_threads.append(server_thread)\n",
    "print(\"Server running...\")"
   ]
  },
  {
   "cell_type": "code",
   "execution_count": null,
   "id": "f4a6cee2",
   "metadata": {},
   "outputs": [],
   "source": []
  }
 ],
 "metadata": {
  "kernelspec": {
   "display_name": "Python 3 (ipykernel)",
   "language": "python",
   "name": "python3"
  },
  "language_info": {
   "codemirror_mode": {
    "name": "ipython",
    "version": 3
   },
   "file_extension": ".py",
   "mimetype": "text/x-python",
   "name": "python",
   "nbconvert_exporter": "python",
   "pygments_lexer": "ipython3",
   "version": "3.8.10"
  }
 },
 "nbformat": 4,
 "nbformat_minor": 5
}
